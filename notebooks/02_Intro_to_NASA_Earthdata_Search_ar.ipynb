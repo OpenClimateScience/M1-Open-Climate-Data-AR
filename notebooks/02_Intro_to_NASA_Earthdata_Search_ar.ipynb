{
 "cells": [
  {
   "cell_type": "markdown",
   "id": "242f1f43-4887-4f5e-9740-341f0325f63d",
   "metadata": {},
   "source": [
    "<div dir=\"rtl\">\n",
    "# M1.2 - مقدمة في بحث بيانات NASA Earthdata وبيانات إعادة التحليل\n",
    "\n",
    "*جزء من:* [**Open Climate Data**](https://github.com/OpenClimateScience/M1-Open-Climate-Data) | **الدرس السابق** | **الدرس التالي**\n",
    "</div>"
   ]
  },
  {
   "cell_type": "markdown",
   "id": "9b25df7a-100d-4ee0-8ad9-0171a3f575c8",
   "metadata": {},
   "source": [
    "<div dir=\"rtl\">\n",
    "**المحتويات:**\n",
    "\n",
    "- [إنشاء حساب](#Creating-an-account)\n",
    "- [كيفية استخدام Earthdata Search](#How-to-use-Earthdata-Search)\n",
    "- [البحث عن البيانات](#Searching-for-data)\n",
    "- [مجموعات بيانات إعادة التحليل](#Re-analysis-datasets)\n",
    "- [بيانات MERRA-2 في Earthdata Search](#MERRA-2-data-in-Earthdata-Search)\n",
    "- [تحميل بيانات MERRA-2](#Downloading-MERRA-2-data)\n",
    "</div>"
   ]
  },
  {
   "cell_type": "markdown",
   "id": "d8fa99ce-4372-4e9d-86c4-be69293d1676",
   "metadata": {},
   "source": [
    "<div dir=\"rtl\">\n",
    "## إنشاء حساب\n",
    "\n",
    "Earthdata التابع لوكالة ناسا هو مستودع شامل لجميع مجموعات بيانات علوم الأرض الخاصة بالوكالة. Earthdata Search هو محرك البحث الذي يمكننا استخدامه لاستكشاف تلك المجموعات.\n",
    "\n",
    "- [قم بالتسجيل للحصول على حساب Earthdata هنا.](https://urs.earthdata.nasa.gov/users/new)\n",
    "</div>"
   ]
  },
  {
   "cell_type": "markdown",
   "id": "67b15d22-0eb9-487f-a855-430e74ce08a2",
   "metadata": {},
   "source": [
    "<div dir=\"rtl\">\n",
    "## كيفية استخدام Earthdata Search\n",
    "\n",
    "**دعونا نتعرف على Earthdata Search من خلال البحث عن بعض بيانات المناخ.**\n",
    "\n",
    "بعد تسجيل الدخول، انظر إلى اللوحة الموجودة على الجانب الأيسر. تحت **\"Filter Collections\"**، قم بتوسيع العنوان الذي يقرأ **\"Keywords.\"**\n",
    "\n",
    "![](./assets/M1_screenshot_Earthdata_Search_keywords.png)\n",
    "\n",
    "بعد ذلك، حدد المربع الذي يقرأ **\"Climate Indicators.\"**\n",
    "\n",
    "قد تكون الخيارات في هذا القسم كثيرة! دعونا نحلل المعلومات المعروضة على الجانب الأيمن من لوحة البحث...\n",
    "\n",
    "- تحتوي كل مجموعة بيانات على عدد معين من **الحبيبات (granules)،** وهو اسم آخر لملف البيانات.\n",
    "- تغطي كل مجموعة بيانات فترة زمنية معينة؛ على سبيل المثال، \"2003-02-03 ongoing\" تعني أن البيانات تم جمعها باستمرار منذ 3 فبراير 2003.\n",
    "- تحتوي بعض مجموعات البيانات على رمز يقرأ **\"Earthdata Cloud,\"** مما يعني أن المجموعة متاحة في السحابة، دون الحاجة إلى تنزيل ملفات البيانات على جهاز الكمبيوتر الخاص بك. سنتعلم كيفية القيام بذلك لاحقًا في هذا المنهاج.\n",
    "</div>"
   ]
  },
  {
   "cell_type": "markdown",
   "id": "b07f7513-f8b1-4b20-bf58-d560738f66cb",
   "metadata": {},
   "source": [
    "<div dir=\"rtl\">\n",
    "### معلومات حول كل مجموعة بيانات\n",
    "\n",
    "**إذا قمت بالمرور فوق إحدى مجموعات البيانات في النصف الأيمن من هذه اللوحة، سيظهر رمز معلومات (i).** انظر إلى لقطة الشاشة أدناه كمثال. **انقر فوق هذا الزر (i).**\n",
    "\n",
    "![](./assets/M1_screenshot_Earthdata_Search_dataset_hovering.png)\n",
    "\n",
    "هناك الكثير من المعلومات المهمة هنا. أولاً، في أعلى صفحة المعلومات هذه، سترى ثلاثة مربعات، كما هو الحال في المثال التالي:\n",
    "\n",
    "![](./assets/M1_screenshot_Earthdata_Search_info_page.png)\n",
    "\n",
    "- **اسم مختصر يميز هذه المجموعة بشكل فريد؛** في هذا المثال هو: `GRACEADM_CLSM025GL_7D`\n",
    "- **رقم الإصدار؛** في هذا المثال هو: `Version 3.0`\n",
    "- **معرف كائن رقمي (DOI).** DOI هو مثل عنوان URL الخاص بالموقع الإلكتروني، باستثناء أنه يمكن أن يحدد أي نوع من المعلومات الرقمية بشكل فريد، وغالبًا ما يكون مجموعة بيانات. إذا استخدمت مجموعة بيانات في بحثك، يجب أن تتأكد من ذكر DOI الخاص بها في أي منشور.\n",
    "</div>"
   ]
  },
  {
   "cell_type": "markdown",
   "id": "731410f6-a26e-4be7-8efa-e729e8df5c87",
   "metadata": {},
   "source": [
    "<div dir=\"rtl\">\n",
    "---\n",
    "\n",
    "## البحث عن البيانات\n",
    "\n",
    "بالإضافة إلى استعراض مجموعات البيانات حسب المنطقة الموضوعية (مثل \"Climate Indicators\")، يمكننا البحث عن مجموعات البيانات بالاسم أو الكلمة المفتاحية، تمامًا كما نفعل عند استخدام محرك بحث الإنترنت.\n",
    "\n",
    "**اكتب \"MERRA-2\" في مربع البحث في أعلى اليسار من هذه الصفحة، كما هو موضح في لقطة الشاشة أدناه.**\n",
    "\n",
    "![](./assets/M1_screenshot_Earthdata_Search_text_box_search.png)\n",
    "</div>"
   ]
  }
 ],
 "metadata": {
  "kernelspec": {
   "display_name": "Python 3 (ipykernel)",
   "language": "python",
   "name": "python3"
  },
  "language_info": {
   "codemirror_mode": {
    "name": "ipython",
    "version": 3
   },
   "file_extension": ".py",
   "mimetype": "text/x-python",
   "name": "python",
   "nbconvert_exporter": "python",
   "pygments_lexer": "ipython3",
   "version": "3.10.12"
  }
 },
 "nbformat": 4,
 "nbformat_minor": 5
}
