{
 "cells": [
  {
   "cell_type": "markdown",
   "id": "97e56497-bb38-4188-ac4f-3467d7edb6a9",
   "metadata": {},
   "source": [
    "<div dir=\"rtl\">\n",
    "# M1.4 - الوصول إلى بيانات MERRA-2 في السحابة\n",
    "\n",
    "*جزء من:* [**البيانات المناخية المفتوحة**](https://github.com/OpenClimateScience/M1-Open-Climate-Data) | **الدرس السابق** | **الدرس التالي**\n",
    "</div>"
   ]
  },
  {
   "cell_type": "markdown",
   "id": "8cdf638e-3a5b-4588-9569-92d7f7ae439b",
   "metadata": {},
   "source": [
    "<div dir=\"rtl\">\n",
    "## المحتويات:\n",
    "\n",
    "- [استخدام `earthaccess`](#Using-earthaccess)\n",
    "- [الحصول على سلسلة زمنية لدرجات الحرارة](#Getting-a-temperature-time-series)\n",
    "</div>"
   ]
  },
  {
   "cell_type": "code",
   "execution_count": null,
   "id": "5af7c0c0-b184-4c29-98f1-94033f52e678",
   "metadata": {},
   "outputs": [],
   "source": [
    "import earthaccess\n",
    "import xarray as xr\n",
    "from matplotlib import pyplot\n",
    "\n",
    "auth = earthaccess.login()"
   ]
  },
  {
   "cell_type": "markdown",
   "id": "91606a2f-50bc-4817-8399-7d3cbe5501aa",
   "metadata": {},
   "source": [
    "<div dir=\"rtl\">\n",
    "## استخدام earthaccess\n",
    "</div>"
   ]
  },
  {
   "cell_type": "markdown",
   "id": "02d18069-393a-44b4-a961-153343866cb4",
   "metadata": {},
   "source": [
    "<div dir=\"rtl\">\n",
    "في الدرس السابق، قمنا بتنزيل ملف netCDF4 يدويًا من بحث Earthdata التابع لناسا. الآن، لنرى كيف يمكننا بدلاً من ذلك استخدام كود Python لتنزيل البيانات من السحابة.\n",
    "\n",
    "مكتبة `earthaccess` يمكن استخدامها للبحث وتنزيل البيانات من Earthdata Search دون فتح متصفح الويب والنقر حوله. لبعض التطبيقات، يمكن أن يمكننا هذا من كتابة كود Python يكون أكثر شفافية وقابلية للتكرار، لأنه يسمح لشخص آخر بالحصول بسهولة على نفس البيانات الخام التي نبدأ بها.\n",
    "\n",
    "نستخدم `earthaccess.search_data()` للحصول على واحد أو أكثر من **البيانات الجزئية** التي تطابق استعلام البحث. البيانات الجزئية هي مجموعة بيانات فردية مرتبطة بمهمة أو منتج معين من ناسا.\n",
    "\n",
    "**هل تتذكر أين يتم العثور على الاسم القصير لمنتجات Earthdata؟** في صفحة المعلومات (i)، هناك موقعان:\n",
    "\n",
    "![](./assets/M1_screenshot_Earthdata_Search_MERRA2_info.png)\n",
    "\n",
    "**نستخدم `short_name` (الاسم القصير) لتحديد مجموعة البيانات الجزئية التي نرغب في البحث عنها.**\n",
    "\n",
    "في هذا المثال، نجد أن هناك 32 بيانات جزئية بين 1 مايو و 1 يونيو، شاملاً.\n",
    "</div>"
   ]
  },
  {
   "cell_type": "code",
   "execution_count": null,
   "id": "a9c1227d-a06b-4fab-8b12-966915e67dcb",
   "metadata": {},
   "outputs": [],
   "source": [
    "results = earthaccess.search_data(\n",
    "    short_name = 'M2SDNXSLV',\n",
    "    temporal = (\"2023-05\", \"2023-06\"))\n",
    "results[0]"
   ]
  },
  {
   "cell_type": "markdown",
   "id": "7ad9248e-f66e-4296-bd52-6c15b71cf821",
   "metadata": {},
   "source": [
    "<div dir=\"rtl\">\n",
    "لم يتم تنزيل أي بيانات حتى الآن؛ لدينا فقط مرجع للبيانات المخزنة في السحابة.\n",
    "</div>"
   ]
  },
  {
   "cell_type": "code",
   "execution_count": null,
   "id": "ccafbe41-cec1-4799-a6ff-d44c34f01b75",
   "metadata": {},
   "outputs": [],
   "source": [
    "type(results[0])"
   ]
  },
  {
   "cell_type": "markdown",
   "id": "e24baa41-3960-43a6-9448-1bd94de4da43",
   "metadata": {},
   "source": [
    "<div dir=\"rtl\">\n",
    "### &#x1F6A9; <span style=\"color:red\">انتبه جيدًا</span>\n",
    "\n",
    "**شيء مهم يجب ملاحظته حول `earthaccess.open()` هو أنه يتطلب *تسلسلاً* من البيانات الجزئية لفتحها.** لذلك، حتى إذا كنا نرغب في فتح جزء واحد فقط، يجب تقديم هذا الجزء كجزء من قائمة أو مجموعة في Python.\n",
    "</div>"
   ]
  },
  {
   "cell_type": "code",
   "execution_count": null,
   "id": "3f97ff3f-35c0-4555-945b-0060c1c54be9",
   "metadata": {},
   "outputs": [],
   "source": [
    "# ملاحظة: open() يتطلب تسلسلاً من مراجع الملفات\n",
    "files = earthaccess.open(results[0:2])"
   ]
  },
  {
   "cell_type": "code",
   "execution_count": null,
   "id": "61e677cf-7ce3-4076-92aa-aeb2d6240620",
   "metadata": {},
   "outputs": [],
   "source": [
    "type(files[0])"
   ]
  },
  {
   "cell_type": "markdown",
   "id": "44af3f59-443b-4ea2-a709-57921914c26c",
   "metadata": {},
   "source": [
    "<div dir=\"rtl\">\n",
    "تم تنزيل البيانات الجزئية في ذاكرة الكمبيوتر الخاص بنا. لفتح أحد الملفات التي تم تنزيلها في Python، نستخدم الآن `xarray`. هناك تأخير طفيف عند استخدام `open_dataset()` على البيانات الجزئية التي تم تنزيلها باستخدام `earthaccess.open()` لأن `xarray` يجب أن يحلل الملف ويفهم نظام الإحداثيات والأبعاد.\n",
    "</div>"
   ]
  },
  {
   "cell_type": "code",
   "execution_count": null,
   "id": "4cfd81df-dc44-443d-9bd0-a8413c44bd96",
   "metadata": {},
   "outputs": [],
   "source": [
    "ds2 = xr.open_dataset(files[0])\n",
    "ds2"
   ]
  },
  {
   "cell_type": "markdown",
   "id": "0ba29031-010f-4e1b-90c5-f71510546df1",
   "metadata": {},
   "source": [
    "<div dir=\"rtl\">\n",
    "مجموعة بيانات `xarray.Dataset` الناتجة جاهزة للتخطيط!\n",
    "</div>"
   ]
  },
  {
   "cell_type": "code",
   "execution_count": null,
   "id": "fbb2c0ba-9ae5-497c-a421-3e14404185e3",
   "metadata": {},
   "outputs": [],
   "source": [
    "ds2['T2MMIN'].plot()"
   ]
  },
  {
   "cell_type": "markdown",
   "id": "20ced234-29b5-4a9a-a960-4d03ad292a01",
   "metadata": {},
   "source": [
    "<div dir=\"rtl\">\n",
    "## الحصول على سلسلة زمنية لدرجات الحرارة\n",
    "</div>"
   ]
  },
  {
   "cell_type": "markdown",
   "id": "6efe6da6-360f-4f94-bfd0-8123cdbef47c",
   "metadata": {},
   "source": [
    "<div dir=\"rtl\">\n",
    "لقد عمل هذا بشكل رائع لملف واحد، ولكن ماذا لو أردنا إنشاء سلسلة زمنية من بيانات المناخ؟ نعلم أن مجموعات بيانات `xarray` يمكن أن تحتوي على بُعد زمني، مما يجعلها قادرة على تمثيل أكثر من حالة واحدة في الوقت. كيف يمكننا إنشاء مثل هذه المجموعة من البيانات؟\n",
    "\n",
    "في هذا المثال التالي، نستخدم حلقة `for` للتكرار عبر بيانات MERRA-2 الجزئية، وفتح كل منها ثم اختيار قيمة `T2MMIN` (درجة الحرارة الدنيا) عند موقع محدد. نضيف هذه القيمة إلى قائمة، جنبًا إلى جنب مع تاريخ (`\"time\"`) البيانات الجزئية، لبناء مجموعة بيانات للسلسلة الزمنية.\n",
    "</div>"
   ]
  },
  {
   "cell_type": "code",
   "execution_count": null,
   "id": "8cce6c4e-9737-4e8e-b5d5-7f1d942b211f",
   "metadata": {},
   "outputs": [],
   "source": [
    "# ملاحظة: قد يستغرق هذا المثال نصف دقيقة مع اتصال إنترنت جيد.\n",
    "results = earthaccess.search_data(\n",
    "    short_name = 'M2SDNXSLV',\n",
    "    temporal = (\"2023-05\", \"2023-06\"))\n",
    "\n",
    "time_list = []\n",
    "data_list = []\n",
    "file_list = earthaccess.open(results)\n",
    "for filename in file_list:\n",
    "    ds = xr.open_dataset(filename)\n",
    "    data_list.append(ds['T2MMIN'].sel(lat = 36.5, lon = 3.125).values)\n",
    "    time_list.append(ds['T2MMIN']['time'].values)"
   ]
  },
  {
   "cell_type": "markdown",
   "id": "7226bbbb-6410-414d-af45-0581078f0110",
   "metadata": {},
   "source": [
    "<div dir=\"rtl\">\n",
    "لدينا الآن قائمة Python تحتوي على قيم درجات الحرارة الدنيا وقائمة أخرى من التواريخ. أدناه، نرسم هذه البيانات بعد استخدام `numpy` لتحويل بيانات درجات الحرارة من كلفن (K) إلى درجات مئوية (C).\n",
    "</div>"
   ]
  },
  {
   "cell_type": "code",
   "execution_count": null,
   "id": "0397b7f4-df17-4ee6-82ab-59789a66b7ea",
   "metadata": {},
   "outputs": [],
   "source": [
    "import numpy as np\n",
    "\n",
    "# التحويل من درجة كلفن إلى درجة مئوية\n",
    "data = np.array(data_list).ravel() - 273.15\n",
    "time = np.array(time_list).ravel()\n",
    "\n",
    "pyplot.figure(figsize = (12, 4))\n",
    "pyplot.plot(time, data)\n",
    "pyplot.ylabel('الحد الأدنى لدرجة الحرارة (درجة مئوية)')"
   ]
  }
 ],
 "metadata": {
  "kernelspec": {
   "display_name": "Python 3 (ipykernel)",
   "language": "python",
   "name": "python3"
  },
  "language_info": {
   "codemirror_mode": {
    "name": "ipython",
    "version": 3
   },
   "file_extension": ".py",
   "mimetype": "text/x-python",
   "name": "python",
   "nbconvert_exporter": "python",
   "pygments_lexer": "ipython3",
   "version": "3.10.12"
  }
 },
 "nbformat": 4,
 "nbformat_minor": 5
}
