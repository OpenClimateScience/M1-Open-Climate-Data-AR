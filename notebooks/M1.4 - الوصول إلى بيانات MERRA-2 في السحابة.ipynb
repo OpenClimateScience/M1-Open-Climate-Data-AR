{
  "cells": [
    {
      "cell_type": "markdown",
      "metadata": {},
      "source": [
        "[![Open Source Love](https://badges.frapsoft.com/os/v1/open-source.svg?v=103)](https://github.com/ellerbrock/open-source-badges/)\n",
        "[<img align=\"right\" width=\"150\" src=\"https://firstcontributions.github.io/assets/Readme/join-slack-team.png\">](https://join.slack.com/t/firstcontributors/shared_invite/zt-1hg51qkgm-Xc7HxhsiPYNN3ofX2_I8FA)\n",
        "[![License: MIT](https://img.shields.io/badge/License-MIT-green.svg)](https://opensource.org/licenses/MIT)\n",
        "[![Open Source Helpers](https://www.codetriage.com/roshanjossey/first-contributions/badges/users.svg)](https://www.codetriage.com/roshanjossey/first-contributions)\n"
      ]
    },
    {
      "cell_type": "markdown",
      "metadata": {},
      "source": [
        "# <div dir=\"rtl\">الوصول إلى بيانات MERRA-2 في السحابة</div>\n"
      ]
    },
    {
      "cell_type": "markdown",
      "metadata": {},
      "source": [
        "<div dir=\"rtl\">\n",
        "في هذا الدرس، سنستعرض كيفية الوصول إلى بيانات MERRA-2 مباشرة من السحابة باستخدام مكتبة `earthaccess`. سنقوم بتنفيذ سلسلة خطوات للبحث عن البيانات، تنزيلها، وفتحها باستخدام Python.\n",
        "</div>\n"
      ]
    },
    {
      "cell_type": "markdown",
      "metadata": {},
      "source": [
        "## <div dir=\"rtl\">المحتويات</div>\n"
      ]
    },
    {
      "cell_type": "markdown",
      "metadata": {},
      "source": [
        "<div dir=\"rtl\">\n",
        "- [استخدام `earthaccess`](#Using-earthaccess)\n",
        "- [الحصول على سلسلة زمنية لدرجات الحرارة](#Getting-a-temperature-time-series)\n",
        "</div>\n"
      ]
    },
    {
      "cell_type": "markdown",
      "metadata": {},
      "source": [
        "## <div dir=\"rtl\">استخدام `earthaccess`</div>\n"
      ]
    },
    {
      "cell_type": "markdown",
      "metadata": {},
      "source": [
        "<div dir=\"rtl\">\n",
        "مكتبة `earthaccess` توفر إمكانية الوصول المباشر إلى بيانات Earthdata دون الحاجة إلى التنقل عبر المتصفح. بدلاً من تنزيل الملفات يدوياً، يمكنك استخدام الكود للبحث عن البيانات المطلوبة وتنزيلها مباشرة إلى بيئتك البرمجية. هذا يوفر شفافية أكبر ويتيح تكرار النتائج بسهولة أكبر.\n",
        "</div>\n"
      ]
    },
    {
      "cell_type": "code",
      "execution_count": null,
      "metadata": {},
      "outputs": [],
      "source": [
        "import earthaccess\n",
        "import xarray as xr\n",
        "from matplotlib import pyplot\n",
        "\n",
        "auth = earthaccess.login()"
      ]
    },
    {
      "cell_type": "markdown",
      "metadata": {},
      "source": [
        "## <div dir=\"rtl\">الحصول على سلسلة زمنية لدرجات الحرارة</div>\n"
      ]
    },
    {
      "cell_type": "markdown",
      "metadata": {},
      "source": [
        "<div dir=\"rtl\">\n",
        "في هذا المثال، سنقوم بتكرار البيانات الجزئية لمجموعة بيانات MERRA-2 لعدة تواريخ. سوف نستخدم مكتبة `xarray` لفتح هذه البيانات الجزئية واسترجاع قيمة درجة الحرارة الدنيا (`T2MMIN`) لموقع محدد.\n",
        "</div>\n"
      ]
    },
    {
      "cell_type": "code",
      "execution_count": null,
      "metadata": {},
      "outputs": [],
      "source": [
        "results = earthaccess.search_data(\n",
        "    short_name = 'M2SDNXSLV',\n",
        "    temporal = (\"2023-05\", \"2023-06\"))\n",
        "\n",
        "time_list = []\n",
        "data_list = []\n",
        "file_list = earthaccess.open(results)\n",
        "for filename in file_list:\n",
        "    ds = xr.open_dataset(filename)\n",
        "    data_list.append(ds['T2MMIN'].sel(lat = 36.5, lon = 3.125).values)\n",
        "    time_list.append(ds['T2MMIN']['time'].values)"
      ]
    },
    {
      "cell_type": "markdown",
      "metadata": {},
      "source": [
        "<div dir=\"rtl\">\n",
        "هنا ستجد السلسلة الزمنية لدرجات الحرارة الدنيا المأخوذة من مجموعة بيانات MERRA-2. يمكنك عرض النتائج في الرسم البياني كما هو موضح أدناه:\n",
        "</div>\n"
      ]
    },
    {
      "cell_type": "code",
      "execution_count": null,
      "metadata": {},
      "outputs": [],
      "source": [
        "import numpy as np\n",
        "\n",
        "# تحويل درجات الحرارة من كلفن إلى مئوية\n",
        "data = np.array(data_list).ravel() - 273.15\n",
        "time = np.array(time_list).ravel()\n",
        "\n",
        "pyplot.figure(figsize = (12, 4))\n",
        "pyplot.plot(time, data)\n",
        "pyplot.ylabel('درجة الحرارة الدنيا (°C)')"
      ]
    },
    {
      "cell_type": "markdown",
      "metadata": {},
      "source": [
        "## <div dir=\"rtl\">توجيهات إضافية</div>\n"
      ]
    },
    {
      "cell_type": "markdown",
      "metadata": {},
      "source": [
        "| <a href=\"../gui-tool-tutorials/github-desktop-tutorial.md\"><img alt=\"GitHub Desktop\" src=\"https://desktop.github.com/images/desktop-icon.svg\" width=\"100\"></a> | <a href=\"../gui-tool-tutorials/github-windows-vs2017-tutorial.md\"><img alt=\"Visual Studio 2017\" src=\"https://upload.wikimedia.org/wikipedia/commons/c/cd/Visual_Studio_2017_Logo.svg\" width=\"100\"></a> | <a href=\"../gui-tool-tutorials/gitkraken-tutorial.md\"><img alt=\"GitKraken\" src=\"https://firstcontributions.github.io/assets/gui-tool-tutorials/gitkraken-tutorial/gk-icon.png\" width=\"100\"></a> | <a href=\"../gui-tool-tutorials/github-windows-vs-code-tutorial.md\"><img alt=\"VS Code\" src=\"https://upload.wikimedia.org/wikipedia/commons/2/2d/Visual_Studio_Code_1.18_icon.svg\" width=100></a> | <a href=\"../gui-tool-tutorials/sourcetree-macos-tutorial.md\"><img alt=\"Sourcetree App\" src=\"https://wac-cdn.atlassian.com/dam/jcr:81b15cde-be2e-4f4a-8af7-9436f4a1b431/Sourcetree-icon-blue.svg\" width=100></a> | <a href=\"../gui-tool-tutorials/github-windows-intellij-tutorial.md\"><img alt=\"IntelliJ IDEA\" src=\"https://upload.wikimedia.org/wikipedia/commons/thumb/9/9c/IntelliJ_IDEA_Icon.svg/512px-IntelliJ_IDEA_Icon.svg.png\" width=100></a> |\n",
        "| -------------------------------------------------------------------------------------------------------------------------------------------------------------- | ------------------------------------------------------------------------------------------------------------------------------------------------------------------------------------------------------ | ----------------------------------------------------------------------------------------------------------------------------------------------------------------------------------------------- | ----------------------------------------------------------------------------------------------------------------------------------------------------------------------------------------------- | --------------------------------------------------------------------------------------------------------------------------------------------------------------------------------------------------------------- | ----------------------------------------------------------------------------------------------------------------------------------------------------------------------------------------------------------------------------------- |\n",
        "| [GitHub Desktop](../gui-tool-tutorials/github-desktop-tutorial.md)                                                                                             | [Visual Studio 2017](../gui-tool-tutorials/github-windows-vs2017-tutorial.md)                                                                                                                          | [GitKraken](../gui-tool-tutorials/gitkraken-tutorial.md)                                                                                                                                        | [Visual Studio Code](../gui-tool-tutorials/github-windows-vs-code-tutorial.md)                                                                                                                  | [Atlassian Sourcetree](../gui-tool-tutorials/sourcetree-macos-tutorial.md)                                                                                                                                      | [IntelliJ IDEA](../gui-tool-tutorials/github-windows-intellij-tutorial.md)                                                                                                                                                          |\n"
      ]
    }
  ],
  "metadata": {
    "kernelspec": {
      "display_name": "Python 3",
      "language": "python",
      "name": "python3"
    },
    "language_info": {
      "name": "python",
      "version": "3.8.5",
      "mimetype": "text/x-python",
      "file_extension": ".py",
      "pygments_lexer": "ipython3",
      "codemirror_mode": {
        "name": "ipython",
        "version": 3
      }
    }
  },
  "nbformat": 4,
  "nbformat_minor": 5
}
