{
  "cells": [
    {
      "cell_type": "markdown",
      "metadata": {},
      "source": [
        "# <div dir=\"rtl\">الوصول إلى بيانات MERRA-2 في السحابة</div>\n",
        "\n",
        "<div dir=\"rtl\">\n",
        "*جزء من:* [**البيانات المناخية المفتوحة**](https://github.com/OpenClimateScience/M1-Open-Climate-Data) | **الدرس السابق** | **الدرس التالي**\n",
        "</div>"
      ]
    },
    {
      "cell_type": "markdown",
      "metadata": {},
      "source": [
        "<div dir=\"rtl\">\n",
        "**المحتويات:**\n",
        "\n",
        "- [استخدام `earthaccess`](#Using-earthaccess)\n",
        "- [الحصول على سلسلة زمنية لدرجات الحرارة](#Getting-a-temperature-time-series)\n",
        "</div>"
      ]
    },
    {
      "cell_type": "code",
      "execution_count": null,
      "metadata": {},
      "outputs": [],
      "source": [
        "import earthaccess\n",
        "import xarray as xr\n",
        "from matplotlib import pyplot\n",
        "\n",
        "auth = earthaccess.login()"
      ]
    },
    {
      "cell_type": "markdown",
      "metadata": {},
      "source": [
        "<div dir=\"rtl\">\n",
        "## استخدام `earthaccess`\n",
        "</div>"
      ]
    },
    {
      "cell_type": "markdown",
      "metadata": {},
      "source": [
        "<div dir=\"rtl\">\n",
        "في الدرس السابق، قمنا بتنزيل ملف netCDF4 يدويًا من بحث Earthdata التابع لناسا. الآن، لنرى كيف يمكننا بدلاً من ذلك استخدام كود Python لتنزيل البيانات من السحابة.\n",
        "\n",
        "يمكن استخدام مكتبة `earthaccess` للبحث وتنزيل البيانات من بحث Earthdata دون فتح متصفح الويب. بالنسبة لبعض التطبيقات، يمكن أن يمكننا هذا من كتابة كود Python يكون أكثر شفافية وقابلية للتكرار، لأنه يسمح لشخص آخر بالحصول بسهولة على نفس البيانات الخام التي نبدأ بها.\n",
        "\n",
        "نستخدم `earthaccess.search_data()` للحصول على واحد أو أكثر من **البيانات الجزئية** التي تطابق استعلام البحث. البيانات الجزئية هي مجموعة بيانات فردية مرتبطة بمهمة أو منتج معين من ناسا.\n",
        "\n",
        "**هل تتذكر أين يتم العثور على الاسم القصير لمنتجات Earthdata؟** في صفحة المعلومات (i)، هناك موقعان:\n",
        "\n",
        "![](./assets/M1_screenshot_Earthdata_Search_MERRA2_info.png)\n",
        "\n",
        "**نستخدم الاسم القصير `short_name` لتحديد مجموعة البيانات الجزئية التي نرغب في البحث عنها.**\n",
        "\n",
        "في هذا المثال، نجد أن هناك 32 بيانات جزئية بين 1 مايو و 1 يونيو، شاملاً.\n",
        "</div>"
      ]
    },
    {
      "cell_type": "code",
      "execution_count": null,
      "metadata": {},
      "outputs": [],
      "source": [
        "results = earthaccess.search_data(\n",
        "    short_name = 'M2SDNXSLV',\n",
        "    temporal = (\"2023-05\", \"2023-06\"))\n",
        "results[0]"
      ]
    },
    {
      "cell_type": "markdown",
      "metadata": {},
      "source": [
        "<div dir=\"rtl\">\n",
        "لم يتم تنزيل أي بيانات بعد؛ لدينا فقط مرجع للبيانات المخزنة في السحابة.\n",
        "</div>"
      ]
    },
    {
      "cell_type": "code",
      "execution_count": null,
      "metadata": {},
      "outputs": [],
      "source": [
        "type(results[0])"
      ]
    },
    {
      "cell_type": "markdown",
      "metadata": {},
      "source": [
        "<div dir=\"rtl\">\n",
        "لتنزيل البيانات الجزئية، يمكننا استخدام `earthaccess.open()`.\n",
        "\n",
        "#### &#x1F6A9; <span style=\"color:red\">انتبه جيدًا</span>\n",
        "\n",
        "**شيء مهم يجب ملاحظته حول `earthaccess.open()` هو أنه يتطلب *تسلسلاً* من البيانات الجزئية لفتحها.** لذلك، حتى إذا كنا نرغب في فتح جزء واحد فقط، يجب تقديم هذا الجزء كجزء من قائمة أو مجموعة في Python.\n",
        "</div>"
      ]
    },
    {
      "cell_type": "code",
      "execution_count": null,
      "metadata": {},
      "outputs": [],
      "source": [
        "# ملاحظة: open() يتطلب تسلسلاً من مراجع الملفات\n",
        "files = earthaccess.open(results[0:2])"
      ]
    },
    {
      "cell_type": "code",
      "execution_count": null,
      "metadata": {},
      "outputs": [],
      "source": [
        "type(files[0])"
      ]
    },
    {
      "cell_type": "markdown",
      "metadata": {},
      "source": [
        "<div dir=\"rtl\">\n",
        "تم تنزيل البيانات الجزئية في ذاكرة الكمبيوتر الخاص بنا. لفتح أحد الملفات التي تم تنزيلها في Python، نستخدم الآن `xarray`. هناك تأخير طفيف عند استخدام `open_dataset()` على البيانات الجزئية التي تم تنزيلها باستخدام `earthaccess.open()` لأن `xarray` يجب أن يحلل الملف ويفهم نظام الإحداثيات والأبعاد.\n",
        "</div>"
      ]
    },
    {
      "cell_type": "code",
      "execution_count": null,
      "metadata": {},
      "outputs": [],
      "source": [
        "ds2 = xr.open_dataset(files[0])\n",
        "ds2"
      ]
    },
    {
      "cell_type": "markdown",
      "metadata": {},
      "source": [
        "<div dir=\"rtl\">\n",
        "مجموعة بيانات `xarray.Dataset` الناتجة جاهزة للتخطيط!\n",
        "</div>"
      ]
    },
    {
      "cell_type": "code",
      "execution_count": null,
      "metadata": {},
      "outputs": [],
      "source": [
        "ds2['T2MMIN'].plot()"
      ]
    },
    {
      "cell_type": "markdown",
      "metadata": {},
      "source": [
        "## <div dir=\"rtl\">الحصول على سلسلة زمنية لدرجات الحرارة</div>\n"
      ]
    },
    {
      "cell_type": "markdown",
      "metadata": {},
      "source": [
        "<div dir=\"rtl\">\n",
        "لقد عمل هذا بشكل رائع لملف واحد، ولكن ماذا لو أردنا إنشاء سلسلة زمنية من بيانات المناخ؟ نعلم أن مجموعات بيانات `xarray` يمكن أن تحتوي على بُعد زمني، مما يجعلها قادرة على تمثيل أكثر من حالة واحدة في الوقت. كيف يمكننا إنشاء مثل هذه المجموعة من البيانات؟\n",
        "\n",
        "في هذا المثال التالي، نستخدم حلقة `for` للتكرار عبر بيانات MERRA-2 الجزئية، وفتح كل منها ثم اختيار قيمة `T2MMIN` (درجة الحرارة الدنيا) عند موقع محدد. نضيف هذه القيمة إلى قائمة، جنبًا إلى جنب مع تاريخ (`\"time\"`) البيانات الجزئية، لبناء مجموعة بيانات للسلسلة الزمنية.\n",
        "</div>"
      ]
    },
    {
      "cell_type": "code",
      "execution_count": null,
      "metadata": {},
      "outputs": [],
      "source": [
        "# ملاحظة: قد يستغرق هذا المثال نصف دقيقة مع اتصال إنترنت جيد.\n",
        "results = earthaccess.search_data(\n",
        "    short_name = 'M2SDNXSLV',\n",
        "    temporal = (\"2023-05\", \"2023-06\"))\n",
        "\n",
        "time_list = []\n",
        "data_list = []\n",
        "file_list = earthaccess.open(results)\n",
        "for filename in file_list:\n",
        "    ds = xr.open_dataset(filename)\n",
        "    data_list.append(ds['T2MMIN'].sel(lat = 36.5, lon = 3.125).values)\n",
        "    time_list.append(ds['T2MMIN']['time'].values)"
      ]
    },
    {
      "cell_type": "markdown",
      "metadata": {},
      "source": [
        "<div dir=\"rtl\">\n",
        "لدينا الآن قائمة Python تحتوي على قيم درجات الحرارة الدنيا وقائمة أخرى من التواريخ. أدناه، نرسم هذه البيانات بعد استخدام `numpy` لتحويل بيانات درجات الحرارة من كلفن (K) إلى درجات مئوية (C).\n",
        "</div>"
      ]
    },
    {
      "cell_type": "code",
      "execution_count": null,
      "metadata": {},
      "outputs": [],
      "source": [
        "import numpy as np\n",
        "\n",
        "# تحويل من كلفن إلى مئوية\n",
        "data = np.array(data_list).ravel() - 273.15\n",
        "time = np.array(time_list).ravel()\n",
        "\n",
        "pyplot.figure(figsize = (12, 4))\n",
        "pyplot.plot(time, data)\n",
        "pyplot.ylabel('درجة الحرارة الدنيا (°C)')"
      ]
    }
  ],
  "metadata": {
    "kernelspec": {
      "display_name": "Python 3 (ipykernel)",
      "language": "python",
      "name": "python3"
    },
    "language_info": {
      "codemirror_mode": {
        "name": "ipython",
        "version": 3
      },
      "file_extension": ".py",
      "mimetype": "text/x-python",
      "name": "python",
      "nbconvert_exporter": "python",
      "pygments_lexer": "ipython3",
      "version": "3.10.12"
    }
  },
  "nbformat": 4,
  "nbformat_minor": 5
}
